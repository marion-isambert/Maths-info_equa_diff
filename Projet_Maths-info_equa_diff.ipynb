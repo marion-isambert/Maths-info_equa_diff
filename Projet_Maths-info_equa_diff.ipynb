{
 "cells": [
  {
   "cell_type": "markdown",
   "metadata": {},
   "source": [
    "# Projet Maths-info n°2 - Equations différentielles\n",
    "\n",
    "### Thibaut Caillerez\n",
    "### Marion Isambert"
   ]
  },
  {
   "cell_type": "markdown",
   "metadata": {},
   "source": [
    "## Importation des bibliothèques utiles"
   ]
  },
  {
   "cell_type": "code",
   "execution_count": null,
   "metadata": {},
   "outputs": [],
   "source": [
    "import numpy as np\n",
    "import matplotlib.pyplot as plt"
   ]
  },
  {
   "cell_type": "markdown",
   "metadata": {},
   "source": [
    "## Etude préliminaire"
   ]
  },
  {
   "cell_type": "markdown",
   "metadata": {},
   "source": [
    "Le système d'équations étudiées est :\n",
    "\n",
    "$$\n",
    "\\begin{equation}\n",
    "\\left\\lbrace\n",
    "\\begin{array}{ccc}\n",
    "\\dot{x_1} = x_1(\\alpha - \\beta x_2) \\\\\n",
    "\\dot{x_2} = x_2(\\gamma - \\delta x_1)\n",
    "\\end{array}\\right.\n",
    "\\end{equation}\n",
    "$$"
   ]
  },
  {
   "cell_type": "markdown",
   "metadata": {},
   "source": [
    "#### Question 1"
   ]
  },
  {
   "cell_type": "markdown",
   "metadata": {},
   "source": [
    "   On se place dans l'interprétation des équations comme une description de 2 populations, $x_1$ étant la population de proies et $x_2$ celle des prédateurs. La quantité de proies dépend du taux de naissances et du taux de décès, qui lui est fonction du nombre de rencontre avec les prédateurs. Ainsi $\\alpha$ représente le taux de naissance des proies et est constant et $\\beta$ représente le taux de mortalité suite à une rencontre avec un prédateur. D'autre part, $x_2$ varie avec le taux de mortalité des prédateurs, $\\delta$ qui est constant, et avec le taux de reproduction ou de vie, $\\gamma$, qui dépend du nombre de rencontres entre prédateurs et proies. \n",
    "   \n",
    "   **Etude du système :**\n",
    "   * On a immédiatement $ x = (0, 0)$ point fixe du système.\n",
    "   * *Analyse* : On suppose qu'il existe $\\bar{x}$ point fixe non nul du système étudié, avec $\\bar{x} = (\\bar{x_1}, \\bar{x_2}).$ Par définition, on a :\n",
    "   \n",
    "   $$\n",
    "   \\dot{\\bar{x_1}} = 0 = \\bar{x_1}(\\alpha - \\beta \\bar{x_2})\\\\\n",
    "   \\dot{\\bar{x_2}} = 0 = \\bar{x_2}(\\gamma - \\delta \\bar{x_1})\n",
    "   $$\n",
    "   \n",
    "   or, $\\bar{x_1}, \\bar{x_2} \\neq 0$\n",
    "   donc $\\bar{x_2} = \\frac{\\alpha}{\\beta} > 0$ et $\\bar{x_1} = \\frac{\\gamma}{\\delta} > 0$\n",
    "   \n",
    "     *Synthèse* : On vérifie aisément que $\\bar{x} = (\\frac{\\gamma}{\\delta}, \\frac{\\alpha}{\\beta})$ est le seul point stable non nul du système étudié. \n",
    "   \n",
    "   * On étudie la stabilité du point fixe $\\bar{x}$ : \n",
    "   \n",
    "     soit $ f : \\mathbb{R}^{+*} \\times \\mathbb{R}^{+*} \\to \\mathbb{R}^2 \\\\\n",
    "     (x_1, x_2) \\mapsto (x_1(\\alpha - \\beta x_2), x_2(\\gamma - \\delta x_1))$ \n",
    "     \n",
    "     continûment différentiable et telle que $f(x) = \\dot{x}$.\n",
    "     \n",
    "     On a alors $\\forall x  \\in  \\mathbb{R}^{+*} \\times \\mathbb{R}^{+*}, J_f(x) = \\begin{pmatrix} \\alpha - \\beta x_2 & -\\beta x_1 \\\\ \\delta x_2 & \\gamma - \\delta x_1 \\end{pmatrix} $\n",
    "     \n",
    "     Soit en $\\bar{x}$, $J_f(\\bar{x}) = \\begin{pmatrix} 0 & - \\beta \\frac{\\gamma}{\\delta} \\\\ \\delta \\frac{\\alpha}{\\beta} & 0 \\end{pmatrix} $\n",
    "     \n",
    "     Les valeurs propres de $J_f(\\bar{x})$ sont à partie réelle nulle, donc on ne peut pas conclure. \n",
    "     "
   ]
  },
  {
   "cell_type": "markdown",
   "metadata": {},
   "source": [
    "#### Question 2"
   ]
  },
  {
   "cell_type": "code",
   "execution_count": null,
   "metadata": {},
   "outputs": [],
   "source": []
  },
  {
   "cell_type": "markdown",
   "metadata": {},
   "source": [
    "#### Question 3"
   ]
  },
  {
   "cell_type": "markdown",
   "metadata": {},
   "source": [
    "$f$ définie à la question 1 est continûment différentiable sur $\\mathbb{R}^{+*} \\times \\mathbb{R}^{+*}$. On peut alors appliquer le théorème de Cauchy-Lipschitz : \n",
    "$\n",
    "\\forall x_0 \\in \\mathbb{R}^{+*} \\times \\mathbb{R}^{+*},   \\exists ! x_{max} : I \\to \\mathbb{R}^2 \\in S_f(x_0)$ solution maximale du système étudié, avec $I$ un intervalle de $\\mathbb{R}$.\n",
    "...\n"
   ]
  },
  {
   "cell_type": "markdown",
   "metadata": {},
   "source": [
    "#### Question 4"
   ]
  },
  {
   "cell_type": "markdown",
   "metadata": {},
   "source": [
    "On a pour tout $x_1, x_2$ dans $\\mathbb{R}^{+*} \\times \\mathbb{R}^{+*}$, $H(x_1, x_2) = \\delta x_1 - \\gamma \\ln(x_1) + \\beta x_2 - \\alpha \\ln(x_2)$\n",
    "\n",
    "On dérive : \n",
    "\n",
    "$\\forall (x_1, x_2) \\in \\mathbb{R}^{+*} \\times \\mathbb{R}^{+*}, \\dot{H}(x_1, x_2) = \\delta \\dot{x_1} - \\gamma \\frac{\\dot{x_1}}{x_1} + \\beta x_2 - \\alpha \\frac{\\dot{x_2}}{x_2}$\n",
    "\n",
    "En remplaçant $\\dot{x_1}$ et $\\dot{x_2}$ par leurs expressions (pour des solutions du système différentiel), on obtient finalement $\\dot{H}(x_1, x_2) = 0$, donc $H(x_1, x_2)$ est constante le long d'une trajectoire. \n",
    "\n",
    "D'après le théorème du domaine d'existence maximal, pour $x_0 \\in \\mathbb(R)^2$ et pour $x_max:I\\to \\mathbb(R)^2$ dans $S_f(x_0)$, on a $I = \\rbrack t_m^-, t_m^+\\lbrack$, avec :\n",
    "* si $t_m^-$ fini, alors \n",
    "$$\n",
    "\\lim\\limits_{\\substack{t \\to t_m^-}}d((t, x(t)), \\partial (\\mathbb{R} \\times \\mathbb{R}^{+*} \\times \\mathbb{R}^{+*}) = 0\n",
    "$$\n",
    "ou \n",
    "$$\n",
    "\\lim\\limits_{\\substack{t \\to t_m^-}} \\| x(t) \\| = + \\infty\n",
    "$$\n",
    "* si $t_m^+$ fini, alors \n",
    "$$\n",
    "\\lim\\limits_{\\substack{t \\to t_m^+}}d((t, x(t)), \\partial (\\mathbb{R} \\times \\mathbb{R}^{+*} \\times \\mathbb{R}^{+*}) = 0\n",
    "$$\n",
    "ou \n",
    "$$\n",
    "\\lim\\limits_{\\substack{t \\to t_m^+}} \\| x(t) \\| = + \\infty\n",
    "$$\n",
    "\n",
    "Montrons par l'absurde que $t_m^- = - \\infty$ : \n",
    "* on suppose que $\\lim\\limits_{\\substack{t \\to t_m^-}} \\| x(t) \\| = + \\infty$. En choisissant la norme 1, on a donc $\\lim\\limits_{\\substack{t \\to t_m^-}}|max(x1, x2)| = + \\infty$, et ainsi $\\forall t \\in \\rbrack t_m^-, t_m^+\\lbrack, \\frac{H(t)}{\\| x(t) \\|} \\geq \\delta + \\beta - \\gamma \\frac{ln(x_1(t))}{\\| x(t) \\|} - \\alpha \\frac{ln(x_2(t))}{\\| x(t) \\|}$. \n",
    "  Soit en passant à la limite quand $t$ tend vers $t_m^-$ : \n",
    "  $\\lim\\limits_{\\substack{t \\to t_m^-}} H(t) \\geq \\lim\\limits_{\\substack{t \\to t_m^-}} \\| x(t) \\| (\\delta + \\beta) = + \\infty\n",
    "  $\n",
    "  Or $H$ doit être constante et on vient de montrer que sous ses hypothèses, elle n'était pas finie en $t_m^-$. Ainsi, $\\lim\\limits_{\\substack{t \\to t_m^-}} \\| x(t) \\| < + \\infty$.\n",
    "* on suppose que $\\lim\\limits_{\\substack{t \\to t_m^-}}d((t, x(t)), \\partial (\\mathbb{R} \\times \\mathbb{R}^{+*} \\times \\mathbb{R}^{+*}) = 0$. Comme d'après les hypothèses, $t_m^-$ est fini, on a donc nécessairement $\\lim\\limits_{\\substack{t \\to t_m^-}}d(x(t), \\partial (\\mathbb{R}^{+*} \\times \\mathbb{R}^{+*})) = 0$, ce qui signifie soit que $\\lim\\limits_{\\substack{t \\to t_m^-}} \\| x(t) \\| = + \\infty$, et on se retrouve alors dans le cas précédent que l'on a montré abusrde, soit que $\\lim\\limits_{\\substack{t \\to t_m^-}} x_1(t) = \\lim\\limits_{\\substack{t \\to t_m^-}} x_2(t) = 0$. On aurit alors $\\lim\\limits_{\\substack{t \\to t_m^-}} H(t) = - \\infty$ ce qui est abusrde. \n",
    "Ainsi, nous avons montré que $t_m^-$ ne peut pas être fini et donc que $t_m^- = - \\infty$.\n",
    "En raisonnant de même pour $t_m^+$, on obtient que $t_m^+ = + \\infty$ et ainsi que toute fonction maxiale est définie sur $I = \\mathbb{R}$."
   ]
  },
  {
   "cell_type": "markdown",
   "metadata": {},
   "source": [
    "#### Question 5"
   ]
  },
  {
   "cell_type": "code",
   "execution_count": null,
   "metadata": {},
   "outputs": [],
   "source": []
  },
  {
   "cell_type": "markdown",
   "metadata": {},
   "source": [
    "#### Question 6 "
   ]
  },
  {
   "cell_type": "code",
   "execution_count": null,
   "metadata": {},
   "outputs": [],
   "source": []
  },
  {
   "cell_type": "markdown",
   "metadata": {},
   "source": [
    "#### Question 7"
   ]
  },
  {
   "cell_type": "code",
   "execution_count": null,
   "metadata": {},
   "outputs": [],
   "source": []
  },
  {
   "cell_type": "markdown",
   "metadata": {},
   "source": [
    "#### Question 8"
   ]
  },
  {
   "cell_type": "code",
   "execution_count": null,
   "metadata": {},
   "outputs": [],
   "source": []
  },
  {
   "cell_type": "markdown",
   "metadata": {},
   "source": [
    "#### Question 9"
   ]
  },
  {
   "cell_type": "markdown",
   "metadata": {},
   "source": [
    "Soit $u : \\mathbb(R)^2 \\to \\mathbb(R)^2$ continûment différentiable. \n",
    "\n",
    "On veut montrer que le terme introduit dans le nouveau système est un terme correctif, qui tend à ramener l'algorithme vers la bonne solution dès qu'il s'en écarte trop, ceci en utilisant la condition $H$ temporellement constante le long d'une trajectoire associée à une solution du système de Lotka-Volterra.\n",
    "\n",
    "Soit $g : \\mathbb{R}^{+*} \\times \\mathbb{R}^{+*} \\to \\mathbb{R}^2 \\\\\n",
    "     (x_1, x_2) \\mapsto (x_1(\\alpha - \\beta x_2) - u_1(x_1, x_2)(H(x_1, x_2) - H_0), x_2(\\gamma - \\delta x_1) - u_2(x_1, x_2)(H(x_1, x_2) - H_0))$ \n",
    "     \n",
    "$g$ est continûment différentiable, on peut donc appliquer le théorème de Cauchy-Lipschitz et on obtient \n",
    "\n",
    "$\\forall x_0 \\in \\mathbb{R}^{+*} \\times \\mathbb{R}^{+*},   \\exists ! x_{max} : I \\to \\mathbb{R}^2 \\in S_g(x_0)$ solution maximale du système étudié, avec $I$ un intervalle de $\\mathbb{R}$.\n",
    "\n"
   ]
  },
  {
   "cell_type": "markdown",
   "metadata": {},
   "source": [
    "#### Question 10"
   ]
  },
  {
   "cell_type": "markdown",
   "metadata": {},
   "source": [
    "..."
   ]
  },
  {
   "cell_type": "markdown",
   "metadata": {},
   "source": [
    "#### Question 11"
   ]
  },
  {
   "cell_type": "code",
   "execution_count": null,
   "metadata": {},
   "outputs": [],
   "source": []
  }
 ],
 "metadata": {
  "kernelspec": {
   "display_name": "Python 3",
   "language": "python",
   "name": "python3"
  },
  "language_info": {
   "codemirror_mode": {
    "name": "ipython",
    "version": 3
   },
   "file_extension": ".py",
   "mimetype": "text/x-python",
   "name": "python",
   "nbconvert_exporter": "python",
   "pygments_lexer": "ipython3",
   "version": "3.7.2"
  }
 },
 "nbformat": 4,
 "nbformat_minor": 4
}
