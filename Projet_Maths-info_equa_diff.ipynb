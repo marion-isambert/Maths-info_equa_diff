{
 "cells": [
  {
   "cell_type": "markdown",
   "metadata": {},
   "source": [
    "# Projet Maths-info n°2 - Equations différentielles\n",
    "\n",
    "### Thibaut Caillerez\n",
    "### Marion Isambert"
   ]
  },
  {
   "cell_type": "markdown",
   "metadata": {},
   "source": [
    "## Importation des bibliothèques utiles"
   ]
  },
  {
   "cell_type": "code",
   "execution_count": null,
   "metadata": {},
   "outputs": [],
   "source": [
    "import numpy as np\n",
    "import matplotlib.pyplot as plt"
   ]
  },
  {
   "cell_type": "markdown",
   "metadata": {},
   "source": [
    "## Etude préliminaire"
   ]
  },
  {
   "cell_type": "markdown",
   "metadata": {},
   "source": [
    "Le système d'équations étudiées est :\n"
   ]
  },
  {
   "cell_type": "markdown",
   "metadata": {},
   "source": [
    "#### Question 1"
   ]
  },
  {
   "cell_type": "markdown",
   "metadata": {},
   "source": [
    "   On se place dans l'interprétation des équations comme une description de 2 populations, $x_1$ étant la population de proies et $x_2$ celle des prédateurs. La quantité de proies dépend du taux de naissances et du taux de décès, qui lui est fonction du nombre de rencontre avec les prédateurs. Ainsi $\\alpha$ représente le taux de naissance des proies et est constant et $\\beta$ représente le taux de mortalité suite à une rencontre avec un prédateur. D'autre part, $x_2$ varie avec le taux de mortalité des prédateurs, $\\delta$ qui est constant, et avec le taux de reproduction ou de vie, $\\gamma$, qui dépend du nombre de rencontres entre prédateurs et proies. \n",
    "   \n",
    "   __Etude du système :__\n",
    "   * On a immédiatement la solution $ x = (0, 0)$ solution du système.\n",
    "   * *Analyse* : On suppose qu'il existe $\\bar{x}$ solution non nulle du système.\n"
   ]
  }
 ],
 "metadata": {
  "kernelspec": {
   "display_name": "Python 3",
   "language": "python",
   "name": "python3"
  },
  "language_info": {
   "codemirror_mode": {
    "name": "ipython",
    "version": 3
   },
   "file_extension": ".py",
   "mimetype": "text/x-python",
   "name": "python",
   "nbconvert_exporter": "python",
   "pygments_lexer": "ipython3",
   "version": "3.7.2"
  }
 },
 "nbformat": 4,
 "nbformat_minor": 4
}
